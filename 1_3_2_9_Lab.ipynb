{
  "cells": [
    {
      "cell_type": "code",
      "execution_count": 1,
      "metadata": {
        "colab": {
          "base_uri": "https://localhost:8080/"
        },
        "id": "RjQ5v5s4keJ0",
        "outputId": "09871d7c-05dc-4961-8075-cd3ae4b72c91"
      },
      "outputs": [
        {
          "data": {
            "text/plain": [
              "243"
            ]
          },
          "execution_count": 1,
          "metadata": {},
          "output_type": "execute_result"
        }
      ],
      "source": [
        "# 1) What is 3 to the power of 5?\n",
        "# Code cell 1\n",
        "3**5"
      ]
    },
    {
      "cell_type": "code",
      "execution_count": null,
      "metadata": {
        "colab": {
          "base_uri": "https://localhost:8080/"
        },
        "id": "6nkxhxnYk9U-",
        "outputId": "6becdbae-32a7-4b2e-cc9d-655f9cd2767b"
      },
      "outputs": [
        {
          "data": {
            "text/plain": [
              "['This', 'course', 'is', 'amazing!']"
            ]
          },
          "execution_count": 6,
          "metadata": {},
          "output_type": "execute_result"
        }
      ],
      "source": [
        "# 2) Create a variable, s, containing the string \"This course is amazing!\". Using the variable, split the string into a list.\n",
        "# Code cell 2\n",
        "s = \"This course is amazing!\"\n",
        "s.split()"
      ]
    },
    {
      "cell_type": "code",
      "execution_count": null,
      "metadata": {
        "colab": {
          "base_uri": "https://localhost:8080/"
        },
        "id": "Bx0tqcyZll8a",
        "outputId": "617abd7b-d32f-42aa-e16e-713dc37279d7"
      },
      "outputs": [
        {
          "name": "stdout",
          "output_type": "stream",
          "text": [
            "The height of Mt. Everest is 8848 meters\n"
          ]
        }
      ],
      "source": [
        "# 3) Given the variables height and mountain, use .format() to print the following string: `The height of Mt. Everest is 8848 meters.`\n",
        "# Code cell 3\n",
        "mountain = \"Mt. Everest\"\n",
        "height = 8848\n",
        "print(\"The height of {} is {} meters\".format( mountain , height ))"
      ]
    },
    {
      "cell_type": "code",
      "execution_count": null,
      "metadata": {
        "colab": {
          "base_uri": "https://localhost:8080/",
          "height": 36
        },
        "id": "ymNg9uOPnP6n",
        "outputId": "b9db4ef1-c6b3-4667-97b3-5359f1f63ca0"
      },
      "outputs": [
        {
          "data": {
            "application/vnd.google.colaboratory.intrinsic+json": {
              "type": "string"
            },
            "text/plain": [
              "'this'"
            ]
          },
          "execution_count": 12,
          "metadata": {},
          "output_type": "execute_result"
        }
      ],
      "source": [
        "# 4) Given the following nested list, use indexing to grab the word \"this\".\n",
        "# Code cell 4\n",
        "lst = ['a','b',[4,10,11],['c',[1,66,['this']],2,111],'e',7]\n",
        "lst[3][1][2][0]"
      ]
    },
    {
      "cell_type": "code",
      "execution_count": null,
      "metadata": {
        "colab": {
          "base_uri": "https://localhost:8080/",
          "height": 36
        },
        "id": "FgXFzhlmo-4Z",
        "outputId": "8abcd4d2-a6e3-4feb-a676-296674532775"
      },
      "outputs": [
        {
          "data": {
            "application/vnd.google.colaboratory.intrinsic+json": {
              "type": "string"
            },
            "text/plain": [
              "'that'"
            ]
          },
          "execution_count": 14,
          "metadata": {},
          "output_type": "execute_result"
        }
      ],
      "source": [
        "# 5) Given the following nested dictionary, grab the word \"that\". This exercise is a little more difficult\n",
        "# Code cell 5\n",
        "d = {'k1':['val1','val2','val3',{'we':['need','to','go',{'deeper':[1,2,3,'that']}]}]}\n",
        "d[\"k1\"][3][\"we\"][3][\"deeper\"][3]"
      ]
    },
    {
      "cell_type": "code",
      "execution_count": null,
      "metadata": {
        "id": "zg6340x4rO7v"
      },
      "outputs": [],
      "source": [
        "# 6) What is the main difference between a tuple and a list?\n",
        "# 1. perdebadaan pada tanda kurung yang digunakan\n",
        "# 2. tipe data tuple bersifat immutable yang berarti elemen pada tipe data tuple tidak dapat diubah setelah proses \n",
        "#    pendeklarasiannya. Pada tuple, kita juga bisa menuliskan data yang duplikat sedangakan list ditulis secara berurutan \n",
        "#    dimana bisa berisi lebih dari satu tipe data, serta dapat diubah (mutable) dan memungkinkan adanya data duplikat."
      ]
    },
    {
      "cell_type": "code",
      "execution_count": null,
      "metadata": {
        "colab": {
          "base_uri": "https://localhost:8080/",
          "height": 36
        },
        "id": "uJmMyoQFr97B",
        "outputId": "eb9a3fda-58d1-44da-f1a3-da0bc9db6741"
      },
      "outputs": [
        {
          "data": {
            "application/vnd.google.colaboratory.intrinsic+json": {
              "type": "string"
            },
            "text/plain": [
              "'domain.com'"
            ]
          },
          "execution_count": 15,
          "metadata": {},
          "output_type": "execute_result"
        }
      ],
      "source": [
        "# 7) Create a function, GetDomain(), that grabs the email website domain from a string in the form: user@domain.com. \n",
        "# So for example, passing \"user@domain.com\" would return: domain.com\n",
        "\n",
        "# Code cell 6\n",
        "def GetDomain(txt):\n",
        "   return txt.split('@')[-1]\n",
        "GetDomain('user@domain.com')"
      ]
    },
    {
      "cell_type": "code",
      "execution_count": null,
      "metadata": {
        "colab": {
          "base_uri": "https://localhost:8080/"
        },
        "id": "4A25bxsJsgKZ",
        "outputId": "746b1937-a6b9-4b03-c742-4d1b48a68774"
      },
      "outputs": [
        {
          "data": {
            "text/plain": [
              "True"
            ]
          },
          "execution_count": 16,
          "metadata": {},
          "output_type": "execute_result"
        }
      ],
      "source": [
        "# 8) Create a basic function, findInternet(), that returns True if the word 'Internet' is contained in the input string. \n",
        "# Don't worry about edge cases like punctuation being attached to the word, but account for capitalization. (Hint: Please \n",
        "# see https://docs.python.org/2/reference/expressions.html#in)\n",
        "\n",
        "# Code cell 7\n",
        "def findInternet(txt):\n",
        "    return 'internet' in txt.lower().split()\n",
        "findInternet('The Internet Engineering Task Force was created in 1986')"
      ]
    },
    {
      "cell_type": "code",
      "execution_count": null,
      "metadata": {
        "colab": {
          "base_uri": "https://localhost:8080/"
        },
        "id": "b9_o0y2Qs3Dh",
        "outputId": "bf3df3c1-538d-4641-a8d4-0e99c49c6bb9"
      },
      "outputs": [
        {
          "data": {
            "text/plain": [
              "4"
            ]
          },
          "execution_count": 19,
          "metadata": {},
          "output_type": "execute_result"
        }
      ],
      "source": [
        "# 9) Create a function, countIoT(), that counts the number of times the word \"IoT\" occurs in a string. Ignore edge \n",
        "# cases but take into account capitalization.\n",
        "\n",
        "# Code cell 8\n",
        "def countIoT(st):\n",
        "    count = 0\n",
        "    for word in st.lower().split():\n",
        "      if word == 'iot' :\n",
        "        count += 1\n",
        "\n",
        "    return count\n",
        "\n",
        "countIoT('I don\\'t know how to spell IoT ! Is it IoT or iot ? What does iot mean anyway?')"
      ]
    },
    {
      "cell_type": "code",
      "execution_count": null,
      "metadata": {
        "colab": {
          "base_uri": "https://localhost:8080/"
        },
        "id": "FzOuBSHiuIGQ",
        "outputId": "b10f9974-47fb-4da5-d53e-a5d50606e480"
      },
      "outputs": [
        {
          "data": {
            "text/plain": [
              "['data', 'dairy', 'dog']"
            ]
          },
          "execution_count": 22,
          "metadata": {},
          "output_type": "execute_result"
        }
      ],
      "source": [
        "# 10) Use lambda expressions and the filter() function to filter out words from a list that do not start with the letter 'd'. For example:\n",
        "# seq = ['data','salt' ,'dairy','cat', 'dog']\n",
        "# should be filtered down to:\n",
        "# ['data', 'dairy', 'dog']\n",
        "\n",
        "# Code cell 9\n",
        "seq = ['data','salt' ,'dairy','cat', 'dog']\n",
        "list(filter(lambda word: word[0]== 'd', seq))"
      ]
    },
    {
      "cell_type": "code",
      "execution_count": null,
      "metadata": {
        "colab": {
          "base_uri": "https://localhost:8080/"
        },
        "id": "WBgGgU9Ju0L4",
        "outputId": "7100c12a-5aa3-4a5c-dc9e-5996bc242e1a"
      },
      "outputs": [
        {
          "name": "stdout",
          "output_type": "stream",
          "text": [
            "['DATA', 'SALT', 'DAIRY', 'CAT', 'DOG']\n"
          ]
        }
      ],
      "source": [
        "# 11) Use lambda expressions and the map() function to convert a list of words to upper case. For example:\n",
        "# seq = ['data','salt' ,'dairy','cat', 'dog']\n",
        "# should become:\n",
        "# ['DATA', 'SALT', 'DAIRY', 'CAT', 'DOG']\n",
        "\n",
        "# Code cell 10\n",
        "seq = list(map(lambda word: word.upper(), seq))\n",
        "print (seq)"
      ]
    },
    {
      "cell_type": "code",
      "execution_count": null,
      "metadata": {
        "id": "6C8drXMQvosw"
      },
      "outputs": [],
      "source": [
        "# 12) Imagine a smart thermostat that is connected to the door, so that it can detect, in addition to the \n",
        "# temperature, when people enter or leave the house\n",
        "\n",
        "# Code cell 11\n",
        "def smart_thermostat(temp, people_in):\n",
        "    command = \"Do nothing\"\n",
        "    if people_in and temp < 20:\n",
        "      command = \"Heating on\"\n",
        "    if temp >= 23 or not (people_in):\n",
        "       command = \"Heating off\"\n",
        "          \n",
        "    return command\n"
      ]
    },
    {
      "cell_type": "code",
      "execution_count": null,
      "metadata": {
        "colab": {
          "base_uri": "https://localhost:8080/",
          "height": 36
        },
        "id": "XqjMgijXw4HE",
        "outputId": "b980c12d-561c-42fc-dbf5-ef57e9f0a32b"
      },
      "outputs": [
        {
          "data": {
            "application/vnd.google.colaboratory.intrinsic+json": {
              "type": "string"
            },
            "text/plain": [
              "'Heating on'"
            ]
          },
          "execution_count": 113,
          "metadata": {},
          "output_type": "execute_result"
        }
      ],
      "source": [
        "smart_thermostat(19,True)\n"
      ]
    },
    {
      "cell_type": "code",
      "execution_count": null,
      "metadata": {
        "colab": {
          "base_uri": "https://localhost:8080/",
          "height": 36
        },
        "id": "yxTR9VbN6Kvd",
        "outputId": "3616918d-9dfd-41b2-ac3b-e55625477e05"
      },
      "outputs": [
        {
          "data": {
            "application/vnd.google.colaboratory.intrinsic+json": {
              "type": "string"
            },
            "text/plain": [
              "'Do nothing'"
            ]
          },
          "execution_count": 114,
          "metadata": {},
          "output_type": "execute_result"
        }
      ],
      "source": [
        "# Code cell 12\n",
        "# Verify smart_thermostat()\n",
        "smart_thermostat(21,True)"
      ]
    },
    {
      "cell_type": "code",
      "execution_count": null,
      "metadata": {
        "colab": {
          "base_uri": "https://localhost:8080/",
          "height": 36
        },
        "id": "f6sKtBkdxuDt",
        "outputId": "0af0ccf2-b321-4071-eca3-497b40048dae"
      },
      "outputs": [
        {
          "data": {
            "application/vnd.google.colaboratory.intrinsic+json": {
              "type": "string"
            },
            "text/plain": [
              "'Heating off'"
            ]
          },
          "execution_count": 112,
          "metadata": {},
          "output_type": "execute_result"
        }
      ],
      "source": [
        "# Code cell 13\n",
        "# Verify smart_thermostat()\n",
        "smart_thermostat(23,True)"
      ]
    },
    {
      "cell_type": "code",
      "execution_count": null,
      "metadata": {
        "colab": {
          "base_uri": "https://localhost:8080/"
        },
        "id": "f8Nxq5Nc6Vmh",
        "outputId": "79d5ce42-31d3-447f-e255-f7a0d5da9049"
      },
      "outputs": [
        {
          "name": "stdout",
          "output_type": "stream",
          "text": [
            "[('Parking', -1), ('Shops', 0), ('Food Court', 1), ('Offices', 2)]\n"
          ]
        }
      ],
      "source": [
        "# 13) The function zip(list1, list2) returns a list of tuples, where the i-th tuple contains the i-th element from each of the \n",
        "# argument lists. Use the zip function to create the following list of tuples:\n",
        "# zipped = [('Parking', -1), ('Shops',0), ('Food Court',1), ('Offices',2)]\n",
        "\n",
        "# Code cell 14\n",
        "floor_types = ['Parking', 'Shops', 'Food Court', 'Offices']\n",
        "floor_numbers = range(-1,3)\n",
        "zipped = list(zip(floor_types,floor_numbers)) \n",
        "print(zipped)"
      ]
    },
    {
      "cell_type": "code",
      "execution_count": null,
      "metadata": {
        "colab": {
          "base_uri": "https://localhost:8080/"
        },
        "id": "vNUIzx2r6wn5",
        "outputId": "5ee7507f-ebe7-4325-8ec1-117bab218669"
      },
      "outputs": [
        {
          "name": "stdout",
          "output_type": "stream",
          "text": [
            "{-1: 'Parking', 0: 'Shops', 1: 'Food Court', 2: 'Offices'}\n"
          ]
        }
      ],
      "source": [
        "# 14) Use the zip function and dict() to create a dictionary, elevator_dict, where the keys are the floor types \n",
        "# and the values are the corresponding floor number so that:\n",
        "\n",
        "# Code cell 15\n",
        "floor_types = ['Parking', 'Shops', 'Food Court', 'Offices']\n",
        "floors_numbers = range(-1,3)\n",
        "elevator_dict = dict(zip(floor_numbers,floor_types))\n",
        "print(elevator_dict)"
      ]
    },
    {
      "cell_type": "code",
      "execution_count": null,
      "metadata": {
        "colab": {
          "base_uri": "https://localhost:8080/",
          "height": 36
        },
        "id": "2psyMAXc7Wb3",
        "outputId": "176fd7ec-667f-4d29-a6f4-0a8d19d876ce"
      },
      "outputs": [
        {
          "data": {
            "application/vnd.google.colaboratory.intrinsic+json": {
              "type": "string"
            },
            "text/plain": [
              "'Parking'"
            ]
          },
          "execution_count": 130,
          "metadata": {},
          "output_type": "execute_result"
        }
      ],
      "source": [
        "# Code cell 16\n",
        "# Verify elevator_dict[-1]\n",
        "elevator_dict[-1]\n",
        "\n"
      ]
    },
    {
      "cell_type": "code",
      "execution_count": null,
      "metadata": {
        "id": "lkaf9uOW8Hjf"
      },
      "outputs": [],
      "source": [
        "# 15) Create an Elevator class. The constructor accepts the list of strings floor_types and the list of integers \n",
        "# floor_numbers. The class implemets the methods 'ask_which_floor' and 'go_to_floor'. The output of this methods should look as follows:\n",
        "\n",
        "# Code cell 17\n",
        "class Elevator:\n",
        "    \n",
        "    def __init__(self, floor_numbers, floor_types):\n",
        "        self._floor_numbers = floor_numbers\n",
        "        self._floor_types = floor_types\n",
        "        self._number_to_type_dict = dict(zip(floor_numbers, floor_types)) \n",
        "        self._type_to_number_dict = dict(zip(floor_types, floor_numbers)) \n",
        "        \n",
        "    def ask_which_floor(self, floor_type):    \n",
        "        if floor_type in self._floor_types:\n",
        "            print('The {} floor is the number: {}.'.format(floor_type, self._type_to_number_dict[floor_type]))\n",
        "        else:\n",
        "            print('There is no {} floor in this building.'.format(floor_type))\n",
        "    \n",
        "    def go_to_floor(self, floor_number):\n",
        "\n",
        "        if floor_number in self._floor_numbers:\n",
        "            print('going to {} floor '.format(self._number_to_type_dict [floor_number]))\n",
        "        else:\n",
        "            print('There is no  floor number in {} this building.'.format(floor_number))\n",
        "    "
      ]
    },
    {
      "cell_type": "code",
      "execution_count": null,
      "metadata": {
        "colab": {
          "base_uri": "https://localhost:8080/"
        },
        "id": "2dwyeBVl9ZlF",
        "outputId": "32db6673-e1e8-4e83-f7f3-214ff3b4db92"
      },
      "outputs": [
        {
          "name": "stdout",
          "output_type": "stream",
          "text": [
            "going to Food Court floor \n"
          ]
        }
      ],
      "source": [
        "# Verify code cell 18\n",
        "el = Elevator(floor_numbers, floor_types)\n",
        "el.go_to_floor(1)"
      ]
    },
    {
      "cell_type": "code",
      "execution_count": null,
      "metadata": {
        "colab": {
          "base_uri": "https://localhost:8080/"
        },
        "id": "MSs6Kqs79ykP",
        "outputId": "ecda56df-29f0-4d44-91bc-0ae94b639d14"
      },
      "outputs": [
        {
          "name": "stdout",
          "output_type": "stream",
          "text": [
            "There is no  floor number in -2 this building.\n"
          ]
        }
      ],
      "source": [
        "# Verify code cell 19\n",
        "el.go_to_floor(-2)"
      ]
    },
    {
      "cell_type": "code",
      "execution_count": null,
      "metadata": {
        "colab": {
          "base_uri": "https://localhost:8080/"
        },
        "id": "RFZ3RF7692cn",
        "outputId": "570a1d73-6054-4fc1-83fa-652d5af94530"
      },
      "outputs": [
        {
          "name": "stdout",
          "output_type": "stream",
          "text": [
            "The Offices floor is the number: 2.\n"
          ]
        }
      ],
      "source": [
        "# Verify code cell 20\n",
        "el.ask_which_floor('Offices')"
      ]
    },
    {
      "cell_type": "code",
      "execution_count": null,
      "metadata": {
        "colab": {
          "base_uri": "https://localhost:8080/"
        },
        "id": "NctrYd3Q96Kx",
        "outputId": "971e6c70-c502-4719-8af2-d32791923510"
      },
      "outputs": [
        {
          "name": "stdout",
          "output_type": "stream",
          "text": [
            "There is no Swimming Pool floor in this building.\n"
          ]
        }
      ],
      "source": [
        "# Verify code cell 21\n",
        "el.ask_which_floor('Swimming Pool')"
      ]
    }
  ],
  "metadata": {
    "colab": {
      "provenance": []
    },
    "kernelspec": {
      "display_name": "Python 3",
      "name": "python3"
    },
    "language_info": {
      "codemirror_mode": {
        "name": "ipython",
        "version": 3
      },
      "file_extension": ".py",
      "mimetype": "text/x-python",
      "name": "python",
      "nbconvert_exporter": "python",
      "pygments_lexer": "ipython3",
      "version": "3.9.12"
    }
  },
  "nbformat": 4,
  "nbformat_minor": 0
}
